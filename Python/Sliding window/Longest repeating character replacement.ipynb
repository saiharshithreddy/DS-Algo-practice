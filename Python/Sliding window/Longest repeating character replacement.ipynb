{
 "cells": [
  {
   "cell_type": "code",
   "execution_count": 7,
   "metadata": {},
   "outputs": [],
   "source": [
    "def characterReplacement(s, k):\n",
    "        \n",
    "        # sliding window\n",
    "        window_start, max_length, max_repeat_letter_count = 0,0,0\n",
    "        frequency_map = {}\n",
    "        \n",
    "        for window_end in range(len(s)):\n",
    "            # store the first character\n",
    "            right_char = s[window_end]\n",
    "            \n",
    "            if right_char not in frequency_map:\n",
    "                frequency_map[right_char] = 1\n",
    "            else:\n",
    "                frequency_map[right_char] += 1\n",
    "            max_repeat_letter_count = max(max_repeat_letter_count, frequency_map[right_char])\n",
    "            \n",
    "            # No of elements in the window minus the max repeating letter should not be greater than k. If it is then shrink the window from left. \n",
    "            if window_end - window_start + 1 - max_repeat_letter_count > k:\n",
    "                left_char = s[window_start]\n",
    "                # decrease the letter count as the window shrinked\n",
    "                frequency_map[left_char] -= 1\n",
    "                window_start += 1\n",
    "            max_length = max(max_length, window_end - window_start +1)\n",
    "        return max_length\n",
    "        return max_length"
   ]
  },
  {
   "cell_type": "code",
   "execution_count": 8,
   "metadata": {},
   "outputs": [
    {
     "data": {
      "text/plain": [
       "4"
      ]
     },
     "execution_count": 8,
     "metadata": {},
     "output_type": "execute_result"
    }
   ],
   "source": [
    "characterReplacement(\"AABABC\", 1)"
   ]
  },
  {
   "cell_type": "code",
   "execution_count": null,
   "metadata": {},
   "outputs": [],
   "source": []
  }
 ],
 "metadata": {
  "kernelspec": {
   "display_name": "Python 3",
   "language": "python",
   "name": "python3"
  },
  "language_info": {
   "codemirror_mode": {
    "name": "ipython",
    "version": 3
   },
   "file_extension": ".py",
   "mimetype": "text/x-python",
   "name": "python",
   "nbconvert_exporter": "python",
   "pygments_lexer": "ipython3",
   "version": "3.7.3"
  }
 },
 "nbformat": 4,
 "nbformat_minor": 2
}
