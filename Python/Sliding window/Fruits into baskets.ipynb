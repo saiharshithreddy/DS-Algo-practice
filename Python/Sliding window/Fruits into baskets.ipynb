{
 "cells": [
  {
   "cell_type": "code",
   "execution_count": 4,
   "metadata": {},
   "outputs": [],
   "source": [
    "\n",
    "def totalFruit(tree) :\n",
    "    window_start = 0\n",
    "    max_window_len = 0\n",
    "    hash_map = {}\n",
    "\n",
    "    for window_end in range(len(tree)):\n",
    "    # store the values in the dictionary    \n",
    "        if tree[window_end] not in hash_map:\n",
    "            hash_map[tree[window_end]] = 1\n",
    "        else:\n",
    "            hash_map[tree[window_end]] += 1\n",
    "        # When more than 2 types of fruits \n",
    "        while len(hash_map) > 2:\n",
    "            # Get the number of fruits of fruit type 1\n",
    "            left_fruit = tree[window_start]\n",
    "            # decrement the num\n",
    "            hash_map[left_fruit] -= 1\n",
    "            # if num of fruits is 0\n",
    "            if hash_map[left_fruit] == 0:\n",
    "                del hash_map[left_fruit]\n",
    "            # move the window to the right\n",
    "            window_start += 1\n",
    "        # find the max window size    \n",
    "        max_window_len = max(max_window_len, window_end - window_start + 1)\n",
    "    return max_window_len\n",
    "        "
   ]
  },
  {
   "cell_type": "code",
   "execution_count": 5,
   "metadata": {},
   "outputs": [
    {
     "name": "stdout",
     "output_type": "stream",
     "text": [
      "3\n"
     ]
    }
   ],
   "source": [
    "length = totalFruit([0,1,2,2])\n",
    "print(length)"
   ]
  }
 ],
 "metadata": {
  "kernelspec": {
   "display_name": "Python 3",
   "language": "python",
   "name": "python3"
  },
  "language_info": {
   "codemirror_mode": {
    "name": "ipython",
    "version": 3
   },
   "file_extension": ".py",
   "mimetype": "text/x-python",
   "name": "python",
   "nbconvert_exporter": "python",
   "pygments_lexer": "ipython3",
   "version": "3.7.0"
  }
 },
 "nbformat": 4,
 "nbformat_minor": 2
}
