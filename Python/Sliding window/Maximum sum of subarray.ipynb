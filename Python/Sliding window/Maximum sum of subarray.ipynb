{
 "cells": [
  {
   "cell_type": "markdown",
   "metadata": {},
   "source": [
    "## Maximum sum of subarray"
   ]
  },
  {
   "cell_type": "markdown",
   "metadata": {},
   "source": [
    "Given an array of positive numbers and a positive number ‘k’, find the maximum sum of any contiguous subarray of size ‘k’.\n",
    "\n",
    "Example 1:\n",
    "\n",
    "Input: [2, 1, 5, 1, 3, 2], k=3   \n",
    "Output: 9  \n",
    "Explanation: Subarray with maximum sum is [5, 1, 3].  \n",
    "\n",
    "Example 2:  \n",
    "\n",
    "Input: [2, 3, 4, 1, 5], k=2   \n",
    "Output: 7  \n",
    "Explanation: Subarray with maximum sum is [3, 4].  "
   ]
  },
  {
   "cell_type": "markdown",
   "metadata": {},
   "source": [
    "### Algorithm:"
   ]
  },
  {
   "cell_type": "code",
   "execution_count": 4,
   "metadata": {},
   "outputs": [],
   "source": [
    "def max_sum_array(k, array):\n",
    "    '''\n",
    "    Sliding window approach:\n",
    "    Move the window across the array and check if numbers in the window (window_sum) > max_sum and update max_sum\n",
    "    \n",
    "    Time complexity: O(n)\n",
    "    '''\n",
    "    max_sum = 0\n",
    "    window_sum =0\n",
    "    # loop till the end of the array. As window moves till len(array)-k element. All the array elements are covered\n",
    "    for i in range(len(array)-k+1):\n",
    "        window_sum = 0 # As the window moves one step ahead, reset to 0\n",
    "        # loop to sum the elements in the window\n",
    "        for j in range(i, i+k):\n",
    "            window_sum += array[j]\n",
    "        # compare window sum with the max sum    \n",
    "        max_sum = max(max_sum, window_sum)\n",
    "    # get the max sum of all windows    \n",
    "    return max_sum\n",
    "    \n",
    "    \n",
    "    "
   ]
  },
  {
   "cell_type": "code",
   "execution_count": 5,
   "metadata": {},
   "outputs": [
    {
     "data": {
      "text/plain": [
       "9"
      ]
     },
     "execution_count": 5,
     "metadata": {},
     "output_type": "execute_result"
    }
   ],
   "source": [
    "max_sum_array(3, [2, 1, 5, 1, 3, 2])"
   ]
  }
 ],
 "metadata": {
  "kernelspec": {
   "display_name": "Python 3",
   "language": "python",
   "name": "python3"
  },
  "language_info": {
   "codemirror_mode": {
    "name": "ipython",
    "version": 3
   },
   "file_extension": ".py",
   "mimetype": "text/x-python",
   "name": "python",
   "nbconvert_exporter": "python",
   "pygments_lexer": "ipython3",
   "version": "3.7.3"
  }
 },
 "nbformat": 4,
 "nbformat_minor": 2
}
