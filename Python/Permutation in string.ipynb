{
 "cells": [
  {
   "cell_type": "code",
   "execution_count": 2,
   "metadata": {},
   "outputs": [],
   "source": [
    "\n",
    "def checkInclusion(s1: str, s2: str) -> bool:\n",
    "    window_start, matched = 0, 0\n",
    "    char_frequency = {}\n",
    "\n",
    "    for chr in s1:\n",
    "        if chr not in char_frequency:\n",
    "            char_frequency[chr] = 0\n",
    "        char_frequency[chr] += 1\n",
    "\n",
    "    # our goal is to match all the characters from the 'char_frequency' with the current window\n",
    "    # try to extend the range [window_start, window_end]\n",
    "    for window_end in range(len(s2)):\n",
    "        right_char = s2[window_end]\n",
    "        if right_char in char_frequency:\n",
    "    # decrement the frequency of matched character\n",
    "            char_frequency[right_char] -= 1\n",
    "            if char_frequency[right_char] == 0:\n",
    "                matched += 1\n",
    "\n",
    "        if matched == len(char_frequency):\n",
    "            return True\n",
    "\n",
    "    # shrink the window by one character\n",
    "        if window_end >= len(s1) - 1:\n",
    "            left_char = s2[window_start]\n",
    "            window_start += 1\n",
    "            if left_char in char_frequency:\n",
    "                if char_frequency[left_char] == 0:\n",
    "                    matched -= 1\n",
    "                char_frequency[left_char] += 1\n",
    "\n",
    "    return False\n"
   ]
  },
  {
   "cell_type": "code",
   "execution_count": 6,
   "metadata": {},
   "outputs": [
    {
     "name": "stdout",
     "output_type": "stream",
     "text": [
      "False\n",
      "True\n"
     ]
    }
   ],
   "source": [
    "print(checkInclusion(\"ab\", \"eidboaoo\"))\n",
    "print(checkInclusion(\"ab\" ,\"eidbaooo\"))"
   ]
  },
  {
   "cell_type": "code",
   "execution_count": null,
   "metadata": {},
   "outputs": [],
   "source": []
  }
 ],
 "metadata": {
  "kernelspec": {
   "display_name": "Python 3",
   "language": "python",
   "name": "python3"
  },
  "language_info": {
   "codemirror_mode": {
    "name": "ipython",
    "version": 3
   },
   "file_extension": ".py",
   "mimetype": "text/x-python",
   "name": "python",
   "nbconvert_exporter": "python",
   "pygments_lexer": "ipython3",
   "version": "3.7.3"
  }
 },
 "nbformat": 4,
 "nbformat_minor": 2
}
