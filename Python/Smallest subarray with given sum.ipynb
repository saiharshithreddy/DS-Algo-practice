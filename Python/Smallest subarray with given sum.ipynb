{
 "cells": [
  {
   "cell_type": "markdown",
   "metadata": {},
   "source": [
    "Given an array of positive numbers and a positive number ‘S’, find the length of the smallest subarray whose sum is greater than or equal to ‘S’. Return 0, if no such subarray exists.  \n",
    "\n",
    "Example 1:\n",
    "\n",
    "Input: [2, 1, 5, 2, 3, 2], S=7   \n",
    "Output: 2  \n",
    "Explanation: The smallest subarray with a sum great than or equal to '7' is [5, 2].  \n",
    "Example 2:  \n",
    "\n",
    "Input: [2, 1, 5, 2, 8], S=7   \n",
    "Output: 1\n",
    "Explanation: The smallest subarray with a sum greater than or equal to '7' is [8].  \n",
    "Example 3:  \n",
    "\n",
    "Input: [3, 4, 1, 1, 6], S=8   \n",
    "Output: 3\n",
    "Explanation: Smallest subarrays with a sum greater than or equal to '8' are [3, 4, 1] or [1, 1, 6].  "
   ]
  },
  {
   "cell_type": "code",
   "execution_count": 3,
   "metadata": {},
   "outputs": [
    {
     "name": "stdout",
     "output_type": "stream",
     "text": [
      "Smallest subarray length: 2\n",
      "Smallest subarray length: 1\n",
      "Smallest subarray length: 3\n"
     ]
    }
   ],
   "source": [
    "import math\n",
    "\n",
    "\n",
    "def smallest_subarray_with_given_sum(s, arr):\n",
    "    window_sum = 0\n",
    "    min_length = math.inf\n",
    "    window_start = 0\n",
    "    if len(arr) == 0:\n",
    "            return 0\n",
    "    for window_end in range(0, len(arr)):\n",
    "        window_sum += arr[window_end]  # add the next element\n",
    "        # shrink the window as small as possible until the 'window_sum' is smaller than 's'\n",
    "        while window_sum >= s:\n",
    "            min_length = min(min_length, window_end - window_start + 1)\n",
    "            window_sum -= arr[window_start]\n",
    "            window_start += 1\n",
    "    if min_length == math.inf:\n",
    "        return 0\n",
    "    return min_length\n",
    "\n",
    "\n",
    "def main():\n",
    "    print(\"Smallest subarray length: \" + str(smallest_subarray_with_given_sum(7, [2, 1, 5, 2, 3, 2])))\n",
    "    print(\"Smallest subarray length: \" + str(smallest_subarray_with_given_sum(7, [2, 1, 5, 2, 8])))\n",
    "    print(\"Smallest subarray length: \" + str(smallest_subarray_with_given_sum(8, [3, 4, 1, 1, 6])))\n",
    "\n",
    "\n",
    "main()"
   ]
  },
  {
   "cell_type": "code",
   "execution_count": null,
   "metadata": {},
   "outputs": [],
   "source": []
  }
 ],
 "metadata": {
  "kernelspec": {
   "display_name": "Python 3",
   "language": "python",
   "name": "python3"
  },
  "language_info": {
   "codemirror_mode": {
    "name": "ipython",
    "version": 3
   },
   "file_extension": ".py",
   "mimetype": "text/x-python",
   "name": "python",
   "nbconvert_exporter": "python",
   "pygments_lexer": "ipython3",
   "version": "3.7.3"
  }
 },
 "nbformat": 4,
 "nbformat_minor": 2
}
