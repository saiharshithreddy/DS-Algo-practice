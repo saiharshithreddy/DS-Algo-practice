{
 "cells": [
  {
   "cell_type": "markdown",
   "metadata": {
    "ExecuteTime": {
     "end_time": "2020-04-18T00:57:57.680812Z",
     "start_time": "2020-04-18T00:57:57.658112Z"
    }
   },
   "source": [
    "# Design Questions"
   ]
  },
  {
   "cell_type": "markdown",
   "metadata": {},
   "source": [
    "### [Design LRU cache](https://leetcode.com/problems/lru-cache/)"
   ]
  },
  {
   "cell_type": "code",
   "execution_count": null,
   "metadata": {},
   "outputs": [],
   "source": [
    "# doubly linkedlist\n",
    "class Node:\n",
    "    def __init__(self,key,value):\n",
    "        self.key = key\n",
    "        self.value = value\n",
    "        self.prev = None\n",
    "        self.next = None\n",
    "\n",
    "class LRUCache:\n",
    "\n",
    "    def __init__(self, capacity: int):\n",
    "        self.capacity = capacity\n",
    "        self.map = dict()\n",
    "        # head and tail\n",
    "        self.head = Node(0,0)\n",
    "        self.tail = Node(0,0)\n",
    "        self.head.next = self.tail\n",
    "        self.tail.prev = self.head\n",
    "\n",
    "    def get(self, key: int) -> int:\n",
    "        # check if the data is in the cache\n",
    "        if key not in self.map:\n",
    "            return -1\n",
    "        n = self.map[key]\n",
    "        # Move the node (data) first of the list as it has been accessed.\n",
    "        # Instead of adjusting the links between the nodes. Remove the data and add it to the front.\n",
    "        self.remove(n)\n",
    "        self.add_front(n)\n",
    "        return n.value\n",
    "\n",
    "    def put(self, key: int, value: int) -> None:\n",
    "        if key in self.map:\n",
    "            self.remove(self.map[key])\n",
    "        # update the value for the key\n",
    "        n = Node(key,value)\n",
    "        self.add_front(n)\n",
    "        self.map[key] = n\n",
    "        if len(self.map) > self.capacity:\n",
    "            n = self.head.next\n",
    "            self.remove(n)\n",
    "            del self.map[n.key]\n",
    "            \n",
    "    def remove(self, node):\n",
    "        # standard removal in doubly linked list\n",
    "        p = node.prev\n",
    "        n = node.next\n",
    "        p.next = n\n",
    "        n.prev = p\n",
    "        \n",
    "    def add_front(self,node):\n",
    "        p = self.tail.prev\n",
    "        p.next = node\n",
    "        self.tail.prev = node\n",
    "        node.prev = p\n",
    "        node.next = self.tail\n",
    "        \n",
    "\n",
    "\n",
    "# Your LRUCache object will be instantiated and called as such:\n",
    "# obj = LRUCache(capacity)\n",
    "# param_1 = obj.get(key)\n",
    "# obj.put(key,value)"
   ]
  },
  {
   "cell_type": "markdown",
   "metadata": {},
   "source": [
    "### [Min stack](https://leetcode.com/problems/min-stack/)"
   ]
  },
  {
   "cell_type": "code",
   "execution_count": null,
   "metadata": {},
   "outputs": [],
   "source": [
    "class MinStack:\n",
    "\n",
    "    def __init__(self):\n",
    "        \"\"\"\n",
    "        initialize your data structure here.\n",
    "        \"\"\"\n",
    "        self.stack = []\n",
    "\n",
    "    def push(self, x: int) -> None:\n",
    "        self.stack.append(x)\n",
    "\n",
    "    def pop(self) -> None:\n",
    "        self.stack.pop()\n",
    "\n",
    "    def top(self) -> int:\n",
    "        top = self.stack[-1]\n",
    "        return top\n",
    "    \n",
    "    def getMin(self) -> int:\n",
    "        return min(self.stack) if self.stack else 0\n",
    "\n",
    "# Your MinStack object will be instantiated and called as such:\n",
    "# obj = MinStack()\n",
    "# obj.push(x)\n",
    "# obj.pop()\n",
    "# param_3 = obj.top()\n",
    "# param_4 = obj.getMin()"
   ]
  },
  {
   "cell_type": "markdown",
   "metadata": {},
   "source": [
    "### [Max stack](https://leetcode.com/problems/max-stack/)"
   ]
  },
  {
   "cell_type": "code",
   "execution_count": null,
   "metadata": {},
   "outputs": [],
   "source": [
    "class MaxStack:\n",
    "\n",
    "    def __init__(self):\n",
    "        \"\"\"\n",
    "        initialize your data structure here.\n",
    "        \"\"\"\n",
    "        self.stack = []\n",
    "\n",
    "    def push(self, x: int) -> None:\n",
    "        self.stack.insert(0,x)\n",
    "\n",
    "    def pop(self) -> int:\n",
    "        last = self.stack.pop(0)\n",
    "        return last\n",
    "    \n",
    "    def top(self) -> int:\n",
    "        return self.stack[0]\n",
    "\n",
    "    def peekMax(self) -> int:\n",
    "        return max(self.stack) if self.stack else 0    \n",
    "\n",
    "    def popMax(self) -> int:\n",
    "        max_val = max(self.stack) if self.stack else 0\n",
    "        self.stack.remove(max_val)\n",
    "        return max_val\n",
    "        \n",
    "\n",
    "\n",
    "# Your MaxStack object will be instantiated and called as such:\n",
    "# obj = MaxStack()\n",
    "# obj.push(x)\n",
    "# param_2 = obj.pop()\n",
    "# param_3 = obj.top()\n",
    "# param_4 = obj.peekMax()\n",
    "# param_5 = obj.popMax()"
   ]
  },
  {
   "cell_type": "markdown",
   "metadata": {},
   "source": [
    "### [Design a Stack With Increment Operation](https://leetcode.com/problems/design-a-stack-with-increment-operation/)"
   ]
  },
  {
   "cell_type": "code",
   "execution_count": null,
   "metadata": {},
   "outputs": [],
   "source": [
    "class CustomStack:\n",
    "\n",
    "    def __init__(self, maxSize: int):\n",
    "        self.maxSize = maxSize\n",
    "        self.stack = []\n",
    "\n",
    "    def push(self, x: int) -> None:\n",
    "        \n",
    "        if len(self.stack) < self.maxSize:\n",
    "            self.stack.append(x)\n",
    "            \n",
    "        \n",
    "    def pop(self) -> int:\n",
    "        if self.stack:\n",
    "            return self.stack.pop()\n",
    "        else:\n",
    "            return - 1\n",
    "    \n",
    "    def increment(self, k: int, val: int) -> None:\n",
    "        \n",
    "        if k < len(self.stack):\n",
    "            size = k\n",
    "        else:\n",
    "            size = len(self.stack)\n",
    "        for i in range(size):\n",
    "            self.stack[i] += val\n",
    "        \n",
    "\n",
    "\n",
    "# Your CustomStack object will be instantiated and called as such:\n",
    "# obj = CustomStack(maxSize)\n",
    "# obj.push(x)\n",
    "# param_2 = obj.pop()\n",
    "# obj.increment(k,val)"
   ]
  }
 ],
 "metadata": {
  "kernelspec": {
   "display_name": "Python 3",
   "language": "python",
   "name": "python3"
  },
  "language_info": {
   "codemirror_mode": {
    "name": "ipython",
    "version": 3
   },
   "file_extension": ".py",
   "mimetype": "text/x-python",
   "name": "python",
   "nbconvert_exporter": "python",
   "pygments_lexer": "ipython3",
   "version": "3.7.6"
  },
  "toc": {
   "base_numbering": 1,
   "nav_menu": {},
   "number_sections": true,
   "sideBar": true,
   "skip_h1_title": false,
   "title_cell": "Table of Contents",
   "title_sidebar": "Contents",
   "toc_cell": false,
   "toc_position": {},
   "toc_section_display": true,
   "toc_window_display": true
  }
 },
 "nbformat": 4,
 "nbformat_minor": 4
}
