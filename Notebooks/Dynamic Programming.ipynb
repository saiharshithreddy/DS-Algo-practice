{
 "cells": [
  {
   "cell_type": "markdown",
   "metadata": {},
   "source": [
    "# Dynamic Programming"
   ]
  },
  {
   "cell_type": "markdown",
   "metadata": {},
   "source": [
    "## 0/1 Knapsack"
   ]
  },
  {
   "cell_type": "markdown",
   "metadata": {},
   "source": [
    "#### 0/1 Knapsack"
   ]
  },
  {
   "cell_type": "markdown",
   "metadata": {},
   "source": [
    "#### Equal Subset Sum Partition"
   ]
  },
  {
   "cell_type": "markdown",
   "metadata": {},
   "source": [
    "#### Subset Sum"
   ]
  },
  {
   "cell_type": "code",
   "execution_count": null,
   "metadata": {},
   "outputs": [],
   "source": [
    "#### Minimum Subset Sum Differenc\n",
    "#### Count of Subset Sum\n",
    "#### Target Sum\n",
    "#### Unbounded Knapsack\n",
    "#### Rod Cutting\n",
    "\n",
    "#### Minimum Coin Change\n",
    "#### Maximum Ribbon Cut\n",
    "#### Fibonacci numbers\n",
    "#### Staircase\n",
    "#### Number factors\n",
    "#### Minimum jumps to reach the end\n",
    "#### Minimum jumps with fee\n",
    "#### House thief\n",
    "#### Longest Palindromic Subsequence\n",
    "#### Longest Palindromic Substring\n",
    "#### Count of Palindromic Substrings\n",
    "#### Minimum Deletions in a String to make it a Palindrome\n",
    "#### Palindromic Partitioning\n",
    "#### Longest Common Substring\n",
    "#### Longest Common Subsequence\n",
    "#### Minimum Deletions & Insertions to Transform a String into another\n",
    "#### Maximum Sum Increasing Subsequence\n",
    "#### Longest Increasing Subsequence\n",
    "#### Shortest Common Super-sequence\n",
    "#### Minimum Deletions to Make a Sequence Sorted\n",
    "#### Longest Repeating Subsequence\n",
    "#### Subsequence Pattern Matching\n",
    "#### Longest Bitonic Subsequence\n",
    "#### Longest Alternating Subsequence\n",
    "#### Edit Distance\n",
    "#### Strings Interleaving\n"
   ]
  },
  {
   "cell_type": "markdown",
   "metadata": {},
   "source": [
    "## Unbounded Knapsack"
   ]
  },
  {
   "cell_type": "markdown",
   "metadata": {},
   "source": [
    "#### Coin Change"
   ]
  },
  {
   "cell_type": "code",
   "execution_count": null,
   "metadata": {},
   "outputs": [],
   "source": [
    "class Solution:\n",
    "    def coinChange(self, coins: List[int], amount: int) -> int:\n",
    "        dp = [float('inf')] * (amount + 1)\n",
    "        dp[0] = 0\n",
    "        print(dp)\n",
    "        for coin in coins:\n",
    "            for x in range(coin, amount + 1):\n",
    "                dp[x] = min(dp[x], dp[x - coin] + 1)\n",
    "        return dp[amount] if dp[amount] != float('inf') else -1 "
   ]
  },
  {
   "cell_type": "markdown",
   "metadata": {},
   "source": [
    "## Fibonacci Numbers"
   ]
  },
  {
   "cell_type": "markdown",
   "metadata": {},
   "source": [
    "## Palindromic Subsequence"
   ]
  },
  {
   "cell_type": "markdown",
   "metadata": {},
   "source": [
    "## Longest Common Substring"
   ]
  },
  {
   "cell_type": "code",
   "execution_count": null,
   "metadata": {},
   "outputs": [],
   "source": []
  }
 ],
 "metadata": {
  "kernelspec": {
   "display_name": "Python 3",
   "language": "python",
   "name": "python3"
  },
  "language_info": {
   "codemirror_mode": {
    "name": "ipython",
    "version": 3
   },
   "file_extension": ".py",
   "mimetype": "text/x-python",
   "name": "python",
   "nbconvert_exporter": "python",
   "pygments_lexer": "ipython3",
   "version": "3.7.6"
  },
  "toc": {
   "base_numbering": 1,
   "nav_menu": {},
   "number_sections": true,
   "sideBar": true,
   "skip_h1_title": false,
   "title_cell": "Table of Contents",
   "title_sidebar": "Contents",
   "toc_cell": false,
   "toc_position": {},
   "toc_section_display": true,
   "toc_window_display": true
  }
 },
 "nbformat": 4,
 "nbformat_minor": 4
}
