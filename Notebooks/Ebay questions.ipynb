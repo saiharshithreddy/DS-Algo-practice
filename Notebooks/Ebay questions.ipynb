{
 "cells": [
  {
   "cell_type": "markdown",
   "metadata": {},
   "source": [
    "# Top ebay interview questions"
   ]
  },
  {
   "cell_type": "markdown",
   "metadata": {},
   "source": [
    "*questions are ordered based on the frequency*"
   ]
  },
  {
   "cell_type": "markdown",
   "metadata": {},
   "source": [
    "### 1. [LRU Cache](https://leetcode.com/problems/lru-cache/)"
   ]
  },
  {
   "cell_type": "code",
   "execution_count": null,
   "metadata": {},
   "outputs": [],
   "source": [
    "class Node:\n",
    "    def __init__(self,val):\n",
    "        self.val = val\n",
    "        self.next = None\n",
    "        \n",
    "    \n",
    "class LRUCache:\n",
    "\n",
    "    def __init__(self, capacity: int):\n",
    "            Node()\n",
    "\n",
    "    def get(self, key: int) -> int:\n",
    "        \n",
    "\n",
    "    def put(self, key: int, value: int) -> None:\n",
    "        \n",
    "\n",
    "\n",
    "# Your LRUCache object will be instantiated and called as such:\n",
    "# obj = LRUCache(capacity)\n",
    "# param_1 = obj.get(key)\n",
    "# obj.put(key,value)"
   ]
  },
  {
   "cell_type": "markdown",
   "metadata": {},
   "source": [
    "2. Two sum"
   ]
  },
  {
   "cell_type": "markdown",
   "metadata": {},
   "source": [
    "### 3. [Merge k sorted lists](https://leetcode.com/problems/merge-k-sorted-lists/)"
   ]
  },
  {
   "cell_type": "markdown",
   "metadata": {},
   "source": [
    "**Approaches**\n",
    "1. Brute force method: \n",
    "    * Traverse all the linked lists and collect the values of the nodes into an array.\n",
    "    * Sort and iterate over this array to get the proper value of nodes.\n",
    "    * Create a new sorted linked list and extend it with the new nodes\n",
    "2. "
   ]
  },
  {
   "cell_type": "code",
   "execution_count": null,
   "metadata": {},
   "outputs": [],
   "source": [
    "# Definition for singly-linked list.\n",
    "# class ListNode:\n",
    "#     def __init__(self, x):\n",
    "#         self.val = x\n",
    "#         self.next = None\n",
    "\n",
    "class Solution:\n",
    "    def mergeKLists(self, lists: List[ListNode]) -> ListNode:\n",
    "        "
   ]
  },
  {
   "cell_type": "markdown",
   "metadata": {},
   "source": [
    "Given a dictionary of words find all words that match a pattern.\n",
    "pattern types\n",
    "\n",
    "exact match: input = get, output = get\n",
    "any char match: input = g?t, output = get, got, gut\n",
    "any no. of char match: input = g*t, output = get, got, gut, goat, guilt"
   ]
  },
  {
   "cell_type": "markdown",
   "metadata": {},
   "source": [
    "We are given a list of list, for a currency exchnage application.\n",
    "[[\"USD\",\"CAD\",1.5] , [\"CAD\", \"INR\", 50] ,[\"INR\", \"BAD\", 1.54] ],\n",
    "\n",
    "How do you calculate one currency to another currency, that is find the exchange rate? when a method is given such as exchnageValue(currency c1, currency c2)\n",
    "\n",
    "Please ask for more detail if required!"
   ]
  },
  {
   "cell_type": "markdown",
   "metadata": {},
   "source": [
    "Let's say we have a function findProbabilityofCoinToss(), this predicts the toss with a probability of an event with a 40% and 60% accuracy, such as 40% head and 60% time tails.\n",
    "So how can we write another method over this to manipulate the frequency to be 50% for eacg ocurance."
   ]
  },
  {
   "cell_type": "markdown",
   "metadata": {},
   "source": [
    "First round phone interview ( 45 minutes - 1 hr ). You will receive the link of collab edit to code the algorithmic question.\n",
    "initial 5-10 minutes to discuss about your projects. then was asked two coding questions.\n",
    "\n",
    "Given a binary tree, return all root-to-leaf paths. ( exactly as leetcode number 257 )\n",
    "program to print all permutations of a given string\n",
    "onsite experience. Had 4 rounds of interview. 2 coding related, 1 manager and 1 design.\n",
    "\n",
    "Implement Queue using Stacks ( same as leetcode 232 ) senior mts person took the interview, was very polite. he asked about my projects in detail. and then asked simple coding question related to stack.\n",
    "Design and Implement a music player. ( design round ). initially they will start with your projects then dive into design in detail.\n",
    "managerial round. Here it was a general discussion on what projects i did in college, and was told about ebay culture and work.\n",
    "Design hashmap. Last round, this guy was rude as hell didn't listen to what i was conveying. after i explained him in detail about this problem, he went and asked about all the theory questions like final, finally finalize, string internal working. try with resources. (jeez all theory )"
   ]
  }
 ],
 "metadata": {
  "kernelspec": {
   "display_name": "Python 3",
   "language": "python",
   "name": "python3"
  },
  "language_info": {
   "codemirror_mode": {
    "name": "ipython",
    "version": 3
   },
   "file_extension": ".py",
   "mimetype": "text/x-python",
   "name": "python",
   "nbconvert_exporter": "python",
   "pygments_lexer": "ipython3",
   "version": "3.7.6"
  },
  "toc": {
   "base_numbering": 1,
   "nav_menu": {},
   "number_sections": true,
   "sideBar": true,
   "skip_h1_title": false,
   "title_cell": "Table of Contents",
   "title_sidebar": "Contents",
   "toc_cell": false,
   "toc_position": {},
   "toc_section_display": true,
   "toc_window_display": true
  }
 },
 "nbformat": 4,
 "nbformat_minor": 2
}
