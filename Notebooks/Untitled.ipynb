{
 "cells": [
  {
   "cell_type": "markdown",
   "metadata": {},
   "source": [
    "# Math problems"
   ]
  },
  {
   "cell_type": "markdown",
   "metadata": {},
   "source": [
    "## [Happy number](https://leetcode.com/problems/happy-number/) "
   ]
  },
  {
   "cell_type": "code",
   "execution_count": null,
   "metadata": {},
   "outputs": [],
   "source": [
    "class Solution:\n",
    "    def isHappy(self, n: int) -> bool:\n",
    "        \n",
    "        # find the sum of square of digits of a number\n",
    "        def get_square_sum(n):\n",
    "            square_sum = 0\n",
    "            while n > 0:\n",
    "                rem = n % 10\n",
    "                square_sum += rem**2\n",
    "                n = n // 10\n",
    "\n",
    "            return square_sum\n",
    "        \n",
    "        \n",
    "        num = n\n",
    "        square_sum = get_square_sum(n)\n",
    "        \n",
    "        # loop till square_sum is 1\n",
    "        while square_sum != 1 and num != square_sum:\n",
    "            num = get_square_sum(num)\n",
    "            square_sum = get_square_sum(get_square_sum(square_sum))\n",
    "            \n",
    "        return square_sum == 1"
   ]
  },
  {
   "cell_type": "markdown",
   "metadata": {},
   "source": [
    "### [Palindrome number](https://leetcode.com/problems/palindrome-number/)"
   ]
  },
  {
   "cell_type": "code",
   "execution_count": null,
   "metadata": {},
   "outputs": [],
   "source": [
    "class Solution:\n",
    "    def isPalindrome(self, x: int) -> bool:\n",
    "        \n",
    "        ## RC ##\n",
    "        ## APPROACH : covert the second half of the integer and compare with first half ##\n",
    "        \n",
    "        # Special cases:\n",
    "        # As discussed above, when x < 0, x is not a palindrome.\n",
    "        # Also if the last digit of the number is 0, in order to be a palindrome,\n",
    "        # the first digit of the number also needs to be 0.\n",
    "        # Only 0 satisfy this property.\n",
    "        if(x < 0 or (x % 10 == 0 and x != 0)) : return False\n",
    "\n",
    "        revertedNumber = 0\n",
    "        while(x > revertedNumber):                      # indicates half completed.\n",
    "            revertedNumber = revertedNumber * 10 + x % 10\n",
    "            x = x // 10\n",
    "\n",
    "        # When the length is an odd number, we can get rid of the middle digit by revertedNumber/10\n",
    "        # For example when the input is 12321, at the end of the while loop we get x = 12, revertedNumber = 123,\n",
    "        # since the middle digit doesn't matter in palidrome(it will always equal to itself), we can simply get rid of it.\n",
    "        return x == revertedNumber or x == revertedNumber//10;"
   ]
  },
  {
   "cell_type": "markdown",
   "metadata": {},
   "source": [
    "### [Count primes](https://leetcode.com/problems/count-primes/)"
   ]
  },
  {
   "cell_type": "code",
   "execution_count": null,
   "metadata": {},
   "outputs": [],
   "source": [
    "class Solution:\n",
    "    def countPrimes(self, n: int) -> int:\n",
    "        if n <2:\n",
    "            return 0\n",
    "        # sieve of erathoneses algo\n",
    "        prime = [True] * (n-1)\n",
    "        prime[0] = False\n",
    "        p = 2 # first prime \n",
    "        count = 0\n",
    "        while p*p < n:\n",
    "            \n",
    "            if prime[p-1] == True:\n",
    "                \n",
    "                for i in range(p*p,n,p):\n",
    "                    \n",
    "                    prime[i-1] = False \n",
    "                    \n",
    "            p += 1\n",
    "        \n",
    "        for i in range(len(prime)):\n",
    "            if prime[i] == True:\n",
    "                count += 1\n",
    "        return count \n",
    "        "
   ]
  }
 ],
 "metadata": {
  "kernelspec": {
   "display_name": "Python 3",
   "language": "python",
   "name": "python3"
  },
  "language_info": {
   "codemirror_mode": {
    "name": "ipython",
    "version": 3
   },
   "file_extension": ".py",
   "mimetype": "text/x-python",
   "name": "python",
   "nbconvert_exporter": "python",
   "pygments_lexer": "ipython3",
   "version": "3.7.6"
  },
  "toc": {
   "base_numbering": 1,
   "nav_menu": {},
   "number_sections": true,
   "sideBar": true,
   "skip_h1_title": false,
   "title_cell": "Table of Contents",
   "title_sidebar": "Contents",
   "toc_cell": false,
   "toc_position": {},
   "toc_section_display": true,
   "toc_window_display": false
  }
 },
 "nbformat": 4,
 "nbformat_minor": 4
}
