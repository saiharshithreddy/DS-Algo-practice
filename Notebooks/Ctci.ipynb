{
 "cells": [
  {
   "cell_type": "markdown",
   "metadata": {},
   "source": [
    "## Arrays and Strings"
   ]
  },
  {
   "cell_type": "markdown",
   "metadata": {},
   "source": [
    "### 1. Is Unique: \n",
    "Implement an algorithm to determine if a string has all unique characters. What if you cannot use additional data structures?"
   ]
  },
  {
   "cell_type": "code",
   "execution_count": 3,
   "metadata": {
    "ExecuteTime": {
     "end_time": "2020-04-22T06:33:36.062660Z",
     "start_time": "2020-04-22T06:33:36.038722Z"
    }
   },
   "outputs": [
    {
     "name": "stdout",
     "output_type": "stream",
     "text": [
      "True\n"
     ]
    }
   ],
   "source": [
    "def unique_char(string):\n",
    "    # Assuming character set is ASCII (128 characters)\n",
    "    if len(string) > 128:\n",
    "        return False\n",
    "\n",
    "    char_set = [False for _ in range(128)]\n",
    "    for char in string:\n",
    "        # to get the ascii value python's ord library\n",
    "        val = ord(char)\n",
    "        if char_set[val]:\n",
    "            # Char already found in string\n",
    "            return False\n",
    "        char_set[val] = True\n",
    "\n",
    "    return True\n",
    "\n",
    "\n",
    "print(unique_char(\"abc\"))"
   ]
  },
  {
   "cell_type": "markdown",
   "metadata": {},
   "source": [
    "### 2. Check permutation\n",
    "Given two strings, write a method to decide if one is a permutation of the other"
   ]
  },
  {
   "cell_type": "code",
   "execution_count": 15,
   "metadata": {
    "ExecuteTime": {
     "end_time": "2020-04-26T09:10:13.416005Z",
     "start_time": "2020-04-26T09:10:13.411028Z"
    }
   },
   "outputs": [
    {
     "name": "stdout",
     "output_type": "stream",
     "text": [
      "2/2 Test cases passed\n"
     ]
    }
   ],
   "source": [
    "'''\n",
    "Solution 1: Sort the strings\n",
    "Sort and check the strings\n",
    "'''\n",
    "def check_permutation(str1, str2):\n",
    "    a = ''.join(sorted(str1)) #O(NlogN)\n",
    "    b = ''.join(sorted(str2)) #O(NlogN)\n",
    "    \n",
    "    # comparing two strings or lists is O(N)\n",
    "    return a == b\n",
    "\n",
    "def test():\n",
    "    assert check_permutation(\"bad\",\"dab\") == True\n",
    "    assert check_permutation(\"harshith\", \"harsh\") == False\n",
    "    print(\"2/2 Test cases passed\")\n",
    "\n",
    "test()"
   ]
  },
  {
   "cell_type": "code",
   "execution_count": 4,
   "metadata": {
    "ExecuteTime": {
     "end_time": "2020-04-22T06:33:36.138453Z",
     "start_time": "2020-04-22T06:33:36.126527Z"
    }
   },
   "outputs": [],
   "source": [
    "'''\n",
    "Solution 2: Keep a count of the characters\n",
    "'''\n",
    "\n",
    "from collections import Counter\n",
    "\n",
    "\n",
    "def check_permutation(str1, str2):\n",
    "    # not of equal length then they cant be permutation of each other\n",
    "    if len(str1) != len(str2):\n",
    "        return False\n",
    "\n",
    "    counter = Counter()\n",
    "    for c in str1:\n",
    "        counter[c] += 1\n",
    "    for c in str2:\n",
    "        if counter[c] == 0:\n",
    "            return False\n",
    "        counter[c] -= 1\n",
    "    return True"
   ]
  },
  {
   "cell_type": "markdown",
   "metadata": {},
   "source": [
    "### 3. URLify:\n",
    "Write a method to replace all spaces in a string with '%20: You may assume that the string has sufficient space at the end to hold the additional characters, and that you are given the \"true\" length of the string. (Note: If implementing in Java, please use a character array so that you can perform this operation in place.)\n",
    "\n",
    "EXAMPLE Input: \"Mr John Smith \"J 13 Output: \"Mr%20J ohn%20Smith\""
   ]
  },
  {
   "cell_type": "code",
   "execution_count": 2,
   "metadata": {
    "ExecuteTime": {
     "end_time": "2020-04-26T08:51:07.368536Z",
     "start_time": "2020-04-26T08:51:00.642100Z"
    }
   },
   "outputs": [
    {
     "name": "stdout",
     "output_type": "stream",
     "text": [
      "enter the name\n",
      "harshith reddy  \n",
      "harshith%20reddy%20%20\n"
     ]
    }
   ],
   "source": [
    "def urlify(name):\n",
    "    \n",
    "    # string replace fails for spaces in the end. we should not add %20 in trailing spaces.\n",
    "#   name = name.replace(\" \", \"%20\")\n",
    "    \n",
    "    \n",
    "    return name\n",
    "\n",
    "print(\"enter the name\")\n",
    "name = input()\n",
    "print(urlify(name))\n",
    "    "
   ]
  },
  {
   "cell_type": "markdown",
   "metadata": {},
   "source": [
    "### 4. Palindrome Permutation:\n",
    "Given a string, write a function to check if it is a permutation of a palindrome. A palindrome is a word or phrase that is the same forwards and backwards. A permutation is a rearrangement of letters. The palindrome does not need to be limited to just dictionary words. EXAMPLE Input: Tact Coa Output: True (permutations: \"taco cat\". \"atco cta\". etc.)"
   ]
  },
  {
   "cell_type": "code",
   "execution_count": null,
   "metadata": {},
   "outputs": [],
   "source": []
  }
 ],
 "metadata": {
  "kernelspec": {
   "display_name": "Python 3",
   "language": "python",
   "name": "python3"
  },
  "language_info": {
   "codemirror_mode": {
    "name": "ipython",
    "version": 3
   },
   "file_extension": ".py",
   "mimetype": "text/x-python",
   "name": "python",
   "nbconvert_exporter": "python",
   "pygments_lexer": "ipython3",
   "version": "3.7.6"
  },
  "toc": {
   "base_numbering": 1,
   "nav_menu": {},
   "number_sections": true,
   "sideBar": true,
   "skip_h1_title": false,
   "title_cell": "Table of Contents",
   "title_sidebar": "Contents",
   "toc_cell": false,
   "toc_position": {},
   "toc_section_display": true,
   "toc_window_display": true
  }
 },
 "nbformat": 4,
 "nbformat_minor": 2
}
