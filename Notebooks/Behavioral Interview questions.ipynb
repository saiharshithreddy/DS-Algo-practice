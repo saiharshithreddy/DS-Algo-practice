{
 "cells": [
  {
   "cell_type": "markdown",
   "metadata": {},
   "source": [
    "# Behavioral questions"
   ]
  },
  {
   "cell_type": "markdown",
   "metadata": {},
   "source": [
    "## Star Technique\n",
    "### **Situation**\n",
    "\n",
    "Describe a specific situation. You need to give enough information that the interviewer will be able to understand the circumstances.\n",
    "\n",
    "### **Task**\n",
    "\n",
    "What were you asked or expected to do and why? What was driving you (and/or your team) to complete this project or solve this problem? What were your responsibilities in that situation?\n",
    "\n",
    "### **Action**\n",
    "\n",
    "Describe the actions taken. You should prioritize what you did, what your contribution was, and how those things were impactful. Focus on “I,\" not “we”.\n",
    "\n",
    "### **Result**\n",
    "\n",
    "Describe the outcome. DO NOT undercut your role in the situation, this is not the time to be modest. When talking about the result, make sure you go over what happened, how the event ended, what was accomplished, and what you learned. Be positive. Even if the outcome was unsatisfactory, it is important that something positive came from it. Remember, even when things are negative (or not what you had hoped) good things can still come from them. Oftentimes, individuals have to be prompted in this section of their answer; stand out by including this part on your own"
   ]
  },
  {
   "cell_type": "markdown",
   "metadata": {},
   "source": [
    "### Tips and tricks\n",
    "1. Don't interrupt the interview while they are talking. Listen carefully.\n",
    "2. Don't describe your response using absolute terminology  \n",
    "```I’m always on time → I prefer being on time whenever possible.  \n",
    "I’m never insensitive → I work hard to give feedback in a constructive way that considers personal feelings.\n",
    "That’s everything that happened → Those are the examples I can recall right now.\n",
    "```\n",
    "3. Answer the question asked. Don't tell more than what is expected.\n",
    "4. Don't use jargons or acronyms. Be clear with what you are saying. Make sure the interviewer understands \n",
    "5. Maintain a decent pace. Take small pauses in between. "
   ]
  },
  {
   "cell_type": "markdown",
   "metadata": {},
   "source": [
    "* What was your biggest/worst ----?   \n",
    "*“this failure wasn’t the biggest in terms of loss of business, but it had a significant impact on me because it revealed a blind spot.”*"
   ]
  },
  {
   "cell_type": "markdown",
   "metadata": {},
   "source": [
    "### Small talk questions \n",
    "1. What do you like to do in your free time?\n",
    "2. What book are you reading right now?\n",
    "3. Seen any good movies lately?\n",
    "4. Are you a sports fan?\n",
    "5. Do you have any exciting trips planned?"
   ]
  },
  {
   "cell_type": "markdown",
   "metadata": {},
   "source": [
    "### Different types of behavioral questions"
   ]
  },
  {
   "cell_type": "markdown",
   "metadata": {},
   "source": [
    "1. Prior experience questions\n",
    "2. Hypothetical questions\n",
    "3. Values-based questions"
   ]
  },
  {
   "cell_type": "markdown",
   "metadata": {
    "ExecuteTime": {
     "end_time": "2020-04-18T03:56:44.712151Z",
     "start_time": "2020-04-18T03:56:44.709168Z"
    }
   },
   "source": [
    "### Prior experience questions"
   ]
  },
  {
   "cell_type": "markdown",
   "metadata": {},
   "source": [
    "1. What was the last project you led, and what was its outcome?\n",
    "2. Give me an example of a time that you felt you went above and beyond at work.\n",
    "3. Describe a time when your work was criticized, how you responded, and what happened as a result.\n",
    "4. Have you ever been on a team where someone was not doing their part? How did you handle it?\n",
    "5. Tell me about a time when you had to give someone difficult feedback. How did you handle it?\n",
    "6. How do you handle working with people who annoy you?\n",
    "7. What was the most difficult period in your life, and how did you deal with it?\n",
    "8. Give me an example of a time you did something wrong. How did you handle it?\n",
    "9. Tell me about a time when you had to deal with conflict on the job.\n",
    "10. What assignment was too difficult for you, and how did you resolve the issue?\n",
    "11. Give me an example of a difficult decision you had to make. How did you come to that decision?\n",
    "12. Give an example of an idea you implemented.\n",
    "13. Describe a mentor who has impacted you in a positive way.\n",
    "14. Was there a person in your career who really made a difference? In what way?\n",
    "15. Tell me about your proudest achievement.\n",
    "16. Tell me about a time when you went above and beyond for something\n",
    "17. Tell me about a time you motivated your peers to meet a goal.\n",
    "18.\tTell me about a time when you had to overcome a challenge or an obstacle and how did you resolve conflicts?\n",
    "19.\tTell me about a time you missed a deadline\n",
    "20.\tTell me about a time when you knew you couldn’t meet a deadline and how did you handle it\n",
    "21.\tTell me about a time you did something without being asked\n",
    "22.\tTell me about a time you disagreed with a colleague (or a boss). What is the process you used to work it out?\n",
    "23.\tTell me about when you were stuck in a project\n",
    "24.\tTell me about a time you did something significant\n",
    "25.\tTime when you encountered a complex issue, diagnose it and resolve it\n",
    "26.\tTime when you received feedback from someone and how did you act on it?\n",
    "27.\tTell me a project you’re proud of?\n",
    "28.\tTell me a time when you made a mistake and what you learned from it\n",
    "29.\tTell me about a time when you made a mistake/when you failed/when a team project failed\n",
    "30.\tHave you ever lead a team or mentored somebody and how was the experience\n",
    "31.\tTell me about a time you took a calculated risk\n",
    "32.\tTell me about a time you went deep into a project\n",
    "33.\tWhen did you rebuild your project as u were not satisfied with its performance\n",
    "34.\tTell a situation where you had to take a quick decision\n",
    "35.\tWhat is your strategy when you are assigned a new task\n",
    "36. Talk about some situation where you disagreed with someone and commited to his solution/ commited to your solution"
   ]
  },
  {
   "cell_type": "markdown",
   "metadata": {},
   "source": [
    "### Hypothetical questions\n",
    "1. Your team is giving a presentation in two hours and one member just called in sick. What do you do?\n",
    "2. If you had to choose between a work environment that was always in chaos and one in which nothing ever changed, which would you choose?\n",
    "3. If you inherited so much money that you never had to work again, how would you spend your time?\n",
    "4. If you could create a fictional company to make the world a better place, what would that company do?\n",
    "5. Imagine that you are the product manager for a consumer device that just launched, but 20% of the devices are breaking in the first week from normal use. What do you do?\n",
    "6. Describe how you would handle a situation if you were required to finish multiple tasks by the end of the day, and there was no conceivable way that you could finish them."
   ]
  },
  {
   "cell_type": "markdown",
   "metadata": {},
   "source": [
    "### Questions to ask the interviewer\n",
    "1. What sort of tangible changes has this organization made in regards to promoting gender diversity?\n",
    "2. What are the most exciting projects you’ve worked on here?\n",
    "3. What do you like most about the organization?\n",
    "4. What would you change about the organization?\n",
    "5. How has the organization changed since you’ve joined?\n",
    "6. What do you like most about working here?\n",
    "7. Can you describe the organization’s overall management style and the type of person who usually does well here?\n",
    "8. What excites you the most about the organization’s future?\n",
    "9. If you could change one thing about the organization, what would it be?\n",
    "10. Does the organization have any traditions or rituals that you like?\n",
    "11. Where do you see the organization in three years and how would I contribute to that if I’m hired for this role?\n",
    "12. What is a challenge the organization is facing right now and how could I contribute to overcoming it?\n",
    "13. In what ways might this role change in the next year?\n",
    "14. What would the onboarding process be like for this role?\n",
    "15. What can you tell me about the position that isn’t in the job description?\n",
    "16. Do you expect to do more hiring in this group in the next six months?\n",
    "17. What surprised you about the organization after you started working here?\n",
    "18. What has allowed you to be successful here?\n",
    "19. How does the organization respond to failure?\n",
    "20. Tell me about your most successful employees. What do they do that really sets them apart?\n",
    "21. What haven’t I asked about that most candidates want to know?\n",
    "22. If you were interviewing with your organization again, what questions would you be asking?\n",
    "(If this is your future boss) How would you describe your management style?\n",
    "23. What’s your timeline for the next steps?\n",
    "24. Are there resources I could review in advance to get a head start on the learning curve?"
   ]
  }
 ],
 "metadata": {
  "kernelspec": {
   "display_name": "Python 3",
   "language": "python",
   "name": "python3"
  },
  "language_info": {
   "codemirror_mode": {
    "name": "ipython",
    "version": 3
   },
   "file_extension": ".py",
   "mimetype": "text/x-python",
   "name": "python",
   "nbconvert_exporter": "python",
   "pygments_lexer": "ipython3",
   "version": "3.7.6"
  },
  "toc": {
   "base_numbering": 1,
   "nav_menu": {},
   "number_sections": true,
   "sideBar": true,
   "skip_h1_title": false,
   "title_cell": "Table of Contents",
   "title_sidebar": "Contents",
   "toc_cell": false,
   "toc_position": {},
   "toc_section_display": true,
   "toc_window_display": false
  }
 },
 "nbformat": 4,
 "nbformat_minor": 4
}
